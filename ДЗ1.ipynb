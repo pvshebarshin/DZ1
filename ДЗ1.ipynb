{
 "cells": [
  {
   "cell_type": "code",
   "execution_count": 4,
   "id": "50289e79",
   "metadata": {},
   "outputs": [
    {
     "name": "stderr",
     "output_type": "stream",
     "text": [
      "/Library/Frameworks/Python.framework/Versions/3.11/lib/python3.11/site-packages/urllib3/connectionpool.py:1045: InsecureRequestWarning: Unverified HTTPS request is being made to host 'openphish.com'. Adding certificate verification is strongly advised. See: https://urllib3.readthedocs.io/en/1.26.x/advanced-usage.html#ssl-warnings\n",
      "  warnings.warn(\n"
     ]
    },
    {
     "data": {
      "text/plain": [
       "<tbody>\n",
       "<tr>\n",
       "<td class=\"url_entry\">https://aol-102059.weeblysite.com/</td>\n",
       "<td>AOL Inc.</td>\n",
       "<td>15:06:51</td>\n",
       "</tr>\n",
       "<tr>\n",
       "<td class=\"url_entry\">https://atlt11.weebly.com/</td>\n",
       "<td>AT&amp;T Inc.</td>\n",
       "<td>15:05:02</td>\n",
       "</tr>\n",
       "<tr>\n",
       "<td class=\"url_entry\">https://globalgtt.online/98221d95371eb9444at981ba97fz709883db.html</td>\n",
       "<td>Outlook</td>\n",
       "<td>15:02:56</td>\n",
       "</tr>\n",
       "<tr>\n",
       "<td class=\"url_entry\">https://coordinatedimpolitediscussion.antoniower99.repl.co/</td>\n",
       "<td>Generic/Spear Phishing</td>\n",
       "<td>15:01:21</td>\n",
       "</tr>\n",
       "<tr>\n",
       "<td class=\"url_entry\">http://3659jjj.net/</td>\n",
       "<td>Bet365</td>\n",
       "<td>14:54:25</td>\n",
       "</tr>\n",
       "<tr>\n",
       "<td class=\"url_entry\">https://memebermetrending3202.16-b.it/</td>\n",
       "<td>WhatsApp</td>\n",
       "<td>14:49:13</td>\n",
       "</tr>\n",
       "<tr>\n",
       "<td class=\"url_entry\">https://express-redelivery.info.gf/</td>\n",
       "<td>DHL Airways, Inc.</td>\n",
       "<td>14:42:36</td>\n",
       "</tr>\n",
       "<tr>\n",
       "<td class=\"url_entry\">https://bcnconcepts.com/</td>\n",
       "<td>Facebook, Inc.</td>\n",
       "<td>14:35:19</td>\n",
       "</tr>\n",
       "<tr>\n",
       "<td class=\"url_entry\">http://universaldesignrealtors.com/banquepostale/1195/</td>\n",
       "<td>La Banque postale</td>\n",
       "<td>14:28:11</td>\n",
       "</tr>\n",
       "<tr>\n",
       "<td class=\"url_entry\">http://www.minttportugal.com/usps/</td>\n",
       "<td>United States Postal Service</td>\n",
       "<td>14:20:48</td>\n",
       "</tr>\n",
       "<tr>\n",
       "<td class=\"url_entry\">http://telekom.culturizer.app/</td>\n",
       "<td>Deutsche Telekom</td>\n",
       "<td>14:20:19</td>\n",
       "</tr>\n",
       "<tr>\n",
       "<td class=\"url_entry\">http://41.160.2.216/</td>\n",
       "<td>Office365</td>\n",
       "<td>14:14:44</td>\n",
       "</tr>\n",
       "<tr>\n",
       "<td class=\"url_entry\">http://192.169.150.169/</td>\n",
       "<td>Webmail Providers</td>\n",
       "<td>14:14:27</td>\n",
       "</tr>\n",
       "<tr>\n",
       "<td class=\"url_entry\">http://htechnicalspecialsupply.weebly.com/</td>\n",
       "<td>Rackspace</td>\n",
       "<td>14:13:33</td>\n",
       "</tr>\n",
       "<tr>\n",
       "<td class=\"url_entry\">https://steamncommuuntiy.com/profiles/765611983644799383</td>\n",
       "<td>Steam</td>\n",
       "<td>14:11:38</td>\n",
       "</tr>\n",
       "<tr>\n",
       "<td class=\"url_entry\">http://imap.com-appie.online/</td>\n",
       "<td>Apple Inc.</td>\n",
       "<td>14:10:55</td>\n",
       "</tr>\n",
       "<tr>\n",
       "<td class=\"url_entry\">https://renner.raydlum.info/consultar/login.php</td>\n",
       "<td>Lojas Renner</td>\n",
       "<td>14:08:41</td>\n",
       "</tr>\n",
       "<tr>\n",
       "<td class=\"url_entry\">http://colorednoiseproductions.com/</td>\n",
       "<td>Banco Bradesco</td>\n",
       "<td>14:07:18</td>\n",
       "</tr>\n",
       "<tr>\n",
       "<td class=\"url_entry\">http://ucmidasevent.my.id/</td>\n",
       "<td>Tencent</td>\n",
       "<td>14:03:34</td>\n",
       "</tr>\n",
       "<tr>\n",
       "<td class=\"url_entry\">http://active-datos.com/</td>\n",
       "<td>Bancolombia</td>\n",
       "<td>13:58:21</td>\n",
       "</tr>\n",
       "<tr>\n",
       "<td class=\"url_entry\">https://fastcart.co.za/wp-admin/network/support/C-Agricole/6e61c1cbfb39c56/region.php?particulier</td>\n",
       "<td>Credit Agricole S.A.</td>\n",
       "<td>13:47:12</td>\n",
       "</tr>\n",
       "<tr>\n",
       "<td class=\"url_entry\">http://ups-trackid728923.is-certified.com/Find?sslchannel=true&amp;sessionid=ZeuVSbjCbZZaGyXpV8un5iRxbwfuUPwb9hLsg4YeHpNd0AroSRFDNgwM0NrWlFxR5JNKIbbdBS8db8yIeKDIjAbyvlswc7xOdATrkOrq8kS9gIWvm3npssbvEZ5kYCwBat</td>\n",
       "<td>UPS</td>\n",
       "<td>13:46:04</td>\n",
       "</tr>\n",
       "<tr>\n",
       "<td class=\"url_entry\">http://a13c7ebfb779.duckdns.org/</td>\n",
       "<td>Australian Government</td>\n",
       "<td>13:45:27</td>\n",
       "</tr>\n",
       "<tr>\n",
       "<td class=\"url_entry\">https://imaje.in/unionbankph/login.php</td>\n",
       "<td>The Union Bank of the Philippines</td>\n",
       "<td>13:42:43</td>\n",
       "</tr>\n",
       "<tr>\n",
       "<td class=\"url_entry\">https://commbank-supports-on.line.pm/</td>\n",
       "<td>Commonwealth Bank of Australia</td>\n",
       "<td>13:41:41</td>\n",
       "</tr>\n",
       "<tr>\n",
       "<td class=\"url_entry\">https://paypsy-bsank.com/index2.asp</td>\n",
       "<td>PayPay</td>\n",
       "<td>13:40:49</td>\n",
       "</tr>\n",
       "<tr>\n",
       "<td class=\"url_entry\">https://hm.ru/F6RKE1</td>\n",
       "<td>International Card Services B.V</td>\n",
       "<td>13:35:17</td>\n",
       "</tr>\n",
       "<tr>\n",
       "<td class=\"url_entry\">https://acessoluizafacil.com/?gclid=EAIaIQobChMIprObqavC_QIVbsqUCR1I8w</td>\n",
       "<td>Magalu</td>\n",
       "<td>13:30:57</td>\n",
       "</tr>\n",
       "<tr>\n",
       "<td class=\"url_entry\">https://uniswap.claimweb3.xyz/</td>\n",
       "<td>Crypto/Wallet</td>\n",
       "<td>13:29:39</td>\n",
       "</tr>\n",
       "<tr>\n",
       "<td class=\"url_entry\">http://akaunter.com/wekmmm/login.php?cmd=login_submit&amp;id=b5b3a64f24b31d5b7aa546c7669159d4b5b3a64f24b31d5b7aa546c7669159d4&amp;session=b5b3a64f24b31d5b7aa546c7669159d4b5b3a64f24b31d5b7aa546c7669159d4</td>\n",
       "<td>Wells Fargo &amp; Company</td>\n",
       "<td>13:17:00</td>\n",
       "</tr>\n",
       "</tbody>"
      ]
     },
     "execution_count": 4,
     "metadata": {},
     "output_type": "execute_result"
    }
   ],
   "source": [
    "from bs4 import BeautifulSoup\n",
    "import requests\n",
    "from datetime import datetime\n",
    "import random\n",
    "import time\n",
    "import pandas as pd\n",
    "\n",
    "url_openphish = 'https://openphish.com/'\n",
    "\n",
    "page = requests.get(url_openphish, stream=True, allow_redirects=True, timeout=10, verify=False)\n",
    "soup = BeautifulSoup(page.text, \"html.parser\")\n",
    "table = soup.find('table', class_ = 'pure-table pure-table-striped')\n",
    "internal_table = table.find('tbody')\n",
    "internal_table"
   ]
  },
  {
   "cell_type": "code",
   "execution_count": 5,
   "id": "493cbe25",
   "metadata": {},
   "outputs": [],
   "source": [
    "def getInformation(alive_sites, now, date):\n",
    "    page = requests.get(url_openphish, stream=True, allow_redirects=True, timeout=100, verify=False)\n",
    "    soup = BeautifulSoup(page.text, \"html.parser\")\n",
    "    table = soup.find('table', class_ = 'pure-table pure-table-striped')\n",
    "    internal_table = table.find('tbody')\n",
    "    for tr in internal_table.find_all('tr'):\n",
    "        # print(tr)\n",
    "        url = \"\"\n",
    "        target = \"\"\n",
    "        time = \"\"\n",
    "        row = []\n",
    "        for td in tr.find_all('td'):\n",
    "            # print(td.text.strip())       \n",
    "            row.append(td.text.strip())        \n",
    "        #print(row)\n",
    "        if row:\n",
    "            url = row[0]\n",
    "            target = row[1]        \n",
    "            time = date + \" \" + row[2]\n",
    "\n",
    "            datetime_object = datetime.strptime(time,\"%m/%d/%Y %H:%M:%S\")\n",
    "            #if ((now - datetime_object).total_seconds()/60-180)<16:\n",
    "                # print(row)\n",
    "            alive_sites.append(row)"
   ]
  },
  {
   "cell_type": "code",
   "execution_count": 6,
   "id": "f41a9989",
   "metadata": {},
   "outputs": [
    {
     "name": "stdout",
     "output_type": "stream",
     "text": [
      "Начало опыта - 03/05/2023 18:11:51\n"
     ]
    },
    {
     "name": "stderr",
     "output_type": "stream",
     "text": [
      "/Library/Frameworks/Python.framework/Versions/3.11/lib/python3.11/site-packages/urllib3/connectionpool.py:1045: InsecureRequestWarning: Unverified HTTPS request is being made to host 'openphish.com'. Adding certificate verification is strongly advised. See: https://urllib3.readthedocs.io/en/1.26.x/advanced-usage.html#ssl-warnings\n",
      "  warnings.warn(\n"
     ]
    },
    {
     "name": "stdout",
     "output_type": "stream",
     "text": [
      "0  Минут  30  - данных\n"
     ]
    },
    {
     "name": "stderr",
     "output_type": "stream",
     "text": [
      "/Library/Frameworks/Python.framework/Versions/3.11/lib/python3.11/site-packages/urllib3/connectionpool.py:1045: InsecureRequestWarning: Unverified HTTPS request is being made to host 'openphish.com'. Adding certificate verification is strongly advised. See: https://urllib3.readthedocs.io/en/1.26.x/advanced-usage.html#ssl-warnings\n",
      "  warnings.warn(\n"
     ]
    },
    {
     "name": "stdout",
     "output_type": "stream",
     "text": [
      "5  Минут  60  - данных\n"
     ]
    },
    {
     "name": "stderr",
     "output_type": "stream",
     "text": [
      "/Library/Frameworks/Python.framework/Versions/3.11/lib/python3.11/site-packages/urllib3/connectionpool.py:1045: InsecureRequestWarning: Unverified HTTPS request is being made to host 'openphish.com'. Adding certificate verification is strongly advised. See: https://urllib3.readthedocs.io/en/1.26.x/advanced-usage.html#ssl-warnings\n",
      "  warnings.warn(\n"
     ]
    },
    {
     "name": "stdout",
     "output_type": "stream",
     "text": [
      "10  Минут  90  - данных\n"
     ]
    },
    {
     "name": "stderr",
     "output_type": "stream",
     "text": [
      "/Library/Frameworks/Python.framework/Versions/3.11/lib/python3.11/site-packages/urllib3/connectionpool.py:1045: InsecureRequestWarning: Unverified HTTPS request is being made to host 'openphish.com'. Adding certificate verification is strongly advised. See: https://urllib3.readthedocs.io/en/1.26.x/advanced-usage.html#ssl-warnings\n",
      "  warnings.warn(\n"
     ]
    },
    {
     "name": "stdout",
     "output_type": "stream",
     "text": [
      "15  Минут  120  - данных\n"
     ]
    },
    {
     "name": "stderr",
     "output_type": "stream",
     "text": [
      "/Library/Frameworks/Python.framework/Versions/3.11/lib/python3.11/site-packages/urllib3/connectionpool.py:1045: InsecureRequestWarning: Unverified HTTPS request is being made to host 'openphish.com'. Adding certificate verification is strongly advised. See: https://urllib3.readthedocs.io/en/1.26.x/advanced-usage.html#ssl-warnings\n",
      "  warnings.warn(\n"
     ]
    },
    {
     "name": "stdout",
     "output_type": "stream",
     "text": [
      "20  Минут  150  - данных\n"
     ]
    },
    {
     "name": "stderr",
     "output_type": "stream",
     "text": [
      "/Library/Frameworks/Python.framework/Versions/3.11/lib/python3.11/site-packages/urllib3/connectionpool.py:1045: InsecureRequestWarning: Unverified HTTPS request is being made to host 'openphish.com'. Adding certificate verification is strongly advised. See: https://urllib3.readthedocs.io/en/1.26.x/advanced-usage.html#ssl-warnings\n",
      "  warnings.warn(\n"
     ]
    },
    {
     "name": "stdout",
     "output_type": "stream",
     "text": [
      "25  Минут  180  - данных\n"
     ]
    },
    {
     "name": "stderr",
     "output_type": "stream",
     "text": [
      "/Library/Frameworks/Python.framework/Versions/3.11/lib/python3.11/site-packages/urllib3/connectionpool.py:1045: InsecureRequestWarning: Unverified HTTPS request is being made to host 'openphish.com'. Adding certificate verification is strongly advised. See: https://urllib3.readthedocs.io/en/1.26.x/advanced-usage.html#ssl-warnings\n",
      "  warnings.warn(\n"
     ]
    },
    {
     "name": "stdout",
     "output_type": "stream",
     "text": [
      "30  Минут  210  - данных\n"
     ]
    },
    {
     "name": "stderr",
     "output_type": "stream",
     "text": [
      "/Library/Frameworks/Python.framework/Versions/3.11/lib/python3.11/site-packages/urllib3/connectionpool.py:1045: InsecureRequestWarning: Unverified HTTPS request is being made to host 'openphish.com'. Adding certificate verification is strongly advised. See: https://urllib3.readthedocs.io/en/1.26.x/advanced-usage.html#ssl-warnings\n",
      "  warnings.warn(\n"
     ]
    },
    {
     "name": "stdout",
     "output_type": "stream",
     "text": [
      "35  Минут  240  - данных\n"
     ]
    },
    {
     "name": "stderr",
     "output_type": "stream",
     "text": [
      "/Library/Frameworks/Python.framework/Versions/3.11/lib/python3.11/site-packages/urllib3/connectionpool.py:1045: InsecureRequestWarning: Unverified HTTPS request is being made to host 'openphish.com'. Adding certificate verification is strongly advised. See: https://urllib3.readthedocs.io/en/1.26.x/advanced-usage.html#ssl-warnings\n",
      "  warnings.warn(\n"
     ]
    },
    {
     "name": "stdout",
     "output_type": "stream",
     "text": [
      "40  Минут  270  - данных\n"
     ]
    },
    {
     "name": "stderr",
     "output_type": "stream",
     "text": [
      "/Library/Frameworks/Python.framework/Versions/3.11/lib/python3.11/site-packages/urllib3/connectionpool.py:1045: InsecureRequestWarning: Unverified HTTPS request is being made to host 'openphish.com'. Adding certificate verification is strongly advised. See: https://urllib3.readthedocs.io/en/1.26.x/advanced-usage.html#ssl-warnings\n",
      "  warnings.warn(\n"
     ]
    },
    {
     "name": "stdout",
     "output_type": "stream",
     "text": [
      "45  Минут  300  - данных\n"
     ]
    },
    {
     "name": "stderr",
     "output_type": "stream",
     "text": [
      "/Library/Frameworks/Python.framework/Versions/3.11/lib/python3.11/site-packages/urllib3/connectionpool.py:1045: InsecureRequestWarning: Unverified HTTPS request is being made to host 'openphish.com'. Adding certificate verification is strongly advised. See: https://urllib3.readthedocs.io/en/1.26.x/advanced-usage.html#ssl-warnings\n",
      "  warnings.warn(\n"
     ]
    },
    {
     "name": "stdout",
     "output_type": "stream",
     "text": [
      "50  Минут  330  - данных\n"
     ]
    },
    {
     "name": "stderr",
     "output_type": "stream",
     "text": [
      "/Library/Frameworks/Python.framework/Versions/3.11/lib/python3.11/site-packages/urllib3/connectionpool.py:1045: InsecureRequestWarning: Unverified HTTPS request is being made to host 'openphish.com'. Adding certificate verification is strongly advised. See: https://urllib3.readthedocs.io/en/1.26.x/advanced-usage.html#ssl-warnings\n",
      "  warnings.warn(\n"
     ]
    },
    {
     "name": "stdout",
     "output_type": "stream",
     "text": [
      "55  Минут  360  - данных\n"
     ]
    },
    {
     "name": "stderr",
     "output_type": "stream",
     "text": [
      "/Library/Frameworks/Python.framework/Versions/3.11/lib/python3.11/site-packages/urllib3/connectionpool.py:1045: InsecureRequestWarning: Unverified HTTPS request is being made to host 'openphish.com'. Adding certificate verification is strongly advised. See: https://urllib3.readthedocs.io/en/1.26.x/advanced-usage.html#ssl-warnings\n",
      "  warnings.warn(\n"
     ]
    },
    {
     "name": "stdout",
     "output_type": "stream",
     "text": [
      "60  Минут  390  - данных\n"
     ]
    },
    {
     "name": "stderr",
     "output_type": "stream",
     "text": [
      "/Library/Frameworks/Python.framework/Versions/3.11/lib/python3.11/site-packages/urllib3/connectionpool.py:1045: InsecureRequestWarning: Unverified HTTPS request is being made to host 'openphish.com'. Adding certificate verification is strongly advised. See: https://urllib3.readthedocs.io/en/1.26.x/advanced-usage.html#ssl-warnings\n",
      "  warnings.warn(\n"
     ]
    },
    {
     "name": "stdout",
     "output_type": "stream",
     "text": [
      "65  Минут  420  - данных\n"
     ]
    },
    {
     "name": "stderr",
     "output_type": "stream",
     "text": [
      "/Library/Frameworks/Python.framework/Versions/3.11/lib/python3.11/site-packages/urllib3/connectionpool.py:1045: InsecureRequestWarning: Unverified HTTPS request is being made to host 'openphish.com'. Adding certificate verification is strongly advised. See: https://urllib3.readthedocs.io/en/1.26.x/advanced-usage.html#ssl-warnings\n",
      "  warnings.warn(\n"
     ]
    },
    {
     "name": "stdout",
     "output_type": "stream",
     "text": [
      "70  Минут  450  - данных\n"
     ]
    },
    {
     "name": "stderr",
     "output_type": "stream",
     "text": [
      "/Library/Frameworks/Python.framework/Versions/3.11/lib/python3.11/site-packages/urllib3/connectionpool.py:1045: InsecureRequestWarning: Unverified HTTPS request is being made to host 'openphish.com'. Adding certificate verification is strongly advised. See: https://urllib3.readthedocs.io/en/1.26.x/advanced-usage.html#ssl-warnings\n",
      "  warnings.warn(\n"
     ]
    },
    {
     "name": "stdout",
     "output_type": "stream",
     "text": [
      "75  Минут  480  - данных\n"
     ]
    },
    {
     "name": "stderr",
     "output_type": "stream",
     "text": [
      "/Library/Frameworks/Python.framework/Versions/3.11/lib/python3.11/site-packages/urllib3/connectionpool.py:1045: InsecureRequestWarning: Unverified HTTPS request is being made to host 'openphish.com'. Adding certificate verification is strongly advised. See: https://urllib3.readthedocs.io/en/1.26.x/advanced-usage.html#ssl-warnings\n",
      "  warnings.warn(\n"
     ]
    },
    {
     "name": "stdout",
     "output_type": "stream",
     "text": [
      "80  Минут  510  - данных\n"
     ]
    },
    {
     "name": "stderr",
     "output_type": "stream",
     "text": [
      "/Library/Frameworks/Python.framework/Versions/3.11/lib/python3.11/site-packages/urllib3/connectionpool.py:1045: InsecureRequestWarning: Unverified HTTPS request is being made to host 'openphish.com'. Adding certificate verification is strongly advised. See: https://urllib3.readthedocs.io/en/1.26.x/advanced-usage.html#ssl-warnings\n",
      "  warnings.warn(\n"
     ]
    },
    {
     "name": "stdout",
     "output_type": "stream",
     "text": [
      "85  Минут  540  - данных\n"
     ]
    },
    {
     "name": "stderr",
     "output_type": "stream",
     "text": [
      "/Library/Frameworks/Python.framework/Versions/3.11/lib/python3.11/site-packages/urllib3/connectionpool.py:1045: InsecureRequestWarning: Unverified HTTPS request is being made to host 'openphish.com'. Adding certificate verification is strongly advised. See: https://urllib3.readthedocs.io/en/1.26.x/advanced-usage.html#ssl-warnings\n",
      "  warnings.warn(\n"
     ]
    },
    {
     "name": "stdout",
     "output_type": "stream",
     "text": [
      "90  Минут  570  - данных\n"
     ]
    },
    {
     "name": "stderr",
     "output_type": "stream",
     "text": [
      "/Library/Frameworks/Python.framework/Versions/3.11/lib/python3.11/site-packages/urllib3/connectionpool.py:1045: InsecureRequestWarning: Unverified HTTPS request is being made to host 'openphish.com'. Adding certificate verification is strongly advised. See: https://urllib3.readthedocs.io/en/1.26.x/advanced-usage.html#ssl-warnings\n",
      "  warnings.warn(\n"
     ]
    },
    {
     "name": "stdout",
     "output_type": "stream",
     "text": [
      "95  Минут  600  - данных\n"
     ]
    },
    {
     "name": "stderr",
     "output_type": "stream",
     "text": [
      "/Library/Frameworks/Python.framework/Versions/3.11/lib/python3.11/site-packages/urllib3/connectionpool.py:1045: InsecureRequestWarning: Unverified HTTPS request is being made to host 'openphish.com'. Adding certificate verification is strongly advised. See: https://urllib3.readthedocs.io/en/1.26.x/advanced-usage.html#ssl-warnings\n",
      "  warnings.warn(\n"
     ]
    },
    {
     "name": "stdout",
     "output_type": "stream",
     "text": [
      "100  Минут  630  - данных\n"
     ]
    },
    {
     "name": "stderr",
     "output_type": "stream",
     "text": [
      "/Library/Frameworks/Python.framework/Versions/3.11/lib/python3.11/site-packages/urllib3/connectionpool.py:1045: InsecureRequestWarning: Unverified HTTPS request is being made to host 'openphish.com'. Adding certificate verification is strongly advised. See: https://urllib3.readthedocs.io/en/1.26.x/advanced-usage.html#ssl-warnings\n",
      "  warnings.warn(\n"
     ]
    },
    {
     "name": "stdout",
     "output_type": "stream",
     "text": [
      "105  Минут  660  - данных\n"
     ]
    },
    {
     "name": "stderr",
     "output_type": "stream",
     "text": [
      "/Library/Frameworks/Python.framework/Versions/3.11/lib/python3.11/site-packages/urllib3/connectionpool.py:1045: InsecureRequestWarning: Unverified HTTPS request is being made to host 'openphish.com'. Adding certificate verification is strongly advised. See: https://urllib3.readthedocs.io/en/1.26.x/advanced-usage.html#ssl-warnings\n",
      "  warnings.warn(\n"
     ]
    },
    {
     "name": "stdout",
     "output_type": "stream",
     "text": [
      "110  Минут  690  - данных\n"
     ]
    },
    {
     "name": "stderr",
     "output_type": "stream",
     "text": [
      "/Library/Frameworks/Python.framework/Versions/3.11/lib/python3.11/site-packages/urllib3/connectionpool.py:1045: InsecureRequestWarning: Unverified HTTPS request is being made to host 'openphish.com'. Adding certificate verification is strongly advised. See: https://urllib3.readthedocs.io/en/1.26.x/advanced-usage.html#ssl-warnings\n",
      "  warnings.warn(\n"
     ]
    },
    {
     "name": "stdout",
     "output_type": "stream",
     "text": [
      "115  Минут  720  - данных\n",
      "Окончание опыта - 03/05/2023 20:13:04\n"
     ]
    }
   ],
   "source": [
    "alive_sites = []\n",
    "now = datetime.now()\n",
    "current_time = now.strftime(\"%m/%d/%Y %H:%M:%S\")\n",
    "date = current_time.split(\" \")[0]\n",
    "print(\"Начало опыта - \" + current_time)\n",
    "\n",
    "#Смотрим 2 часа\n",
    "for i in range(24):\n",
    "    getInformation(alive_sites, now, date)\n",
    "    print(i * 5, \" Минут \", len(alive_sites), \" - данных\")\n",
    "    time.sleep(300)\n",
    "    \n",
    "now = datetime.now()\n",
    "current_time = now.strftime(\"%m/%d/%Y %H:%M:%S\")\n",
    "date = current_time.split(\" \")[0]\n",
    "print(\"Окончание опыта - \" + current_time)"
   ]
  },
  {
   "cell_type": "code",
   "execution_count": 7,
   "id": "58de4c18",
   "metadata": {},
   "outputs": [],
   "source": [
    "df = pd.DataFrame(alive_sites)\n",
    "df = df.drop_duplicates()"
   ]
  },
  {
   "cell_type": "code",
   "execution_count": 8,
   "id": "a1670f6e",
   "metadata": {},
   "outputs": [
    {
     "data": {
      "text/html": [
       "<div>\n",
       "<style scoped>\n",
       "    .dataframe tbody tr th:only-of-type {\n",
       "        vertical-align: middle;\n",
       "    }\n",
       "\n",
       "    .dataframe tbody tr th {\n",
       "        vertical-align: top;\n",
       "    }\n",
       "\n",
       "    .dataframe thead th {\n",
       "        text-align: right;\n",
       "    }\n",
       "</style>\n",
       "<table border=\"1\" class=\"dataframe\">\n",
       "  <thead>\n",
       "    <tr style=\"text-align: right;\">\n",
       "      <th></th>\n",
       "      <th>0</th>\n",
       "      <th>1</th>\n",
       "      <th>2</th>\n",
       "    </tr>\n",
       "  </thead>\n",
       "  <tbody>\n",
       "    <tr>\n",
       "      <th>0</th>\n",
       "      <td>https://aol-102059.weeblysite.com/</td>\n",
       "      <td>AOL Inc.</td>\n",
       "      <td>15:06:51</td>\n",
       "    </tr>\n",
       "    <tr>\n",
       "      <th>1</th>\n",
       "      <td>https://atlt11.weebly.com/</td>\n",
       "      <td>AT&amp;T Inc.</td>\n",
       "      <td>15:05:02</td>\n",
       "    </tr>\n",
       "    <tr>\n",
       "      <th>2</th>\n",
       "      <td>https://globalgtt.online/98221d95371eb9444at98...</td>\n",
       "      <td>Outlook</td>\n",
       "      <td>15:02:56</td>\n",
       "    </tr>\n",
       "    <tr>\n",
       "      <th>3</th>\n",
       "      <td>https://coordinatedimpolitediscussion.antoniow...</td>\n",
       "      <td>Generic/Spear Phishing</td>\n",
       "      <td>15:01:21</td>\n",
       "    </tr>\n",
       "    <tr>\n",
       "      <th>4</th>\n",
       "      <td>http://3659jjj.net/</td>\n",
       "      <td>Bet365</td>\n",
       "      <td>14:54:25</td>\n",
       "    </tr>\n",
       "    <tr>\n",
       "      <th>...</th>\n",
       "      <td>...</td>\n",
       "      <td>...</td>\n",
       "      <td>...</td>\n",
       "    </tr>\n",
       "    <tr>\n",
       "      <th>602</th>\n",
       "      <td>http://www.836594x.com/</td>\n",
       "      <td>Bet365</td>\n",
       "      <td>16:47:03</td>\n",
       "    </tr>\n",
       "    <tr>\n",
       "      <th>630</th>\n",
       "      <td>https://aol-102607.weeblysite.com/</td>\n",
       "      <td>AOL Inc.</td>\n",
       "      <td>16:56:51</td>\n",
       "    </tr>\n",
       "    <tr>\n",
       "      <th>660</th>\n",
       "      <td>https://aol-102115.weeblysite.com/</td>\n",
       "      <td>AOL Inc.</td>\n",
       "      <td>17:00:22</td>\n",
       "    </tr>\n",
       "    <tr>\n",
       "      <th>690</th>\n",
       "      <td>https://staencommunlty.com/proflies/7656119796...</td>\n",
       "      <td>Steam</td>\n",
       "      <td>17:04:06</td>\n",
       "    </tr>\n",
       "    <tr>\n",
       "      <th>691</th>\n",
       "      <td>http://neuquenwebonline.com/</td>\n",
       "      <td>Generic/Spear Phishing</td>\n",
       "      <td>17:03:03</td>\n",
       "    </tr>\n",
       "  </tbody>\n",
       "</table>\n",
       "<p>96 rows × 3 columns</p>\n",
       "</div>"
      ],
      "text/plain": [
       "                                                     0  \\\n",
       "0                   https://aol-102059.weeblysite.com/   \n",
       "1                           https://atlt11.weebly.com/   \n",
       "2    https://globalgtt.online/98221d95371eb9444at98...   \n",
       "3    https://coordinatedimpolitediscussion.antoniow...   \n",
       "4                                  http://3659jjj.net/   \n",
       "..                                                 ...   \n",
       "602                            http://www.836594x.com/   \n",
       "630                 https://aol-102607.weeblysite.com/   \n",
       "660                 https://aol-102115.weeblysite.com/   \n",
       "690  https://staencommunlty.com/proflies/7656119796...   \n",
       "691                       http://neuquenwebonline.com/   \n",
       "\n",
       "                          1         2  \n",
       "0                  AOL Inc.  15:06:51  \n",
       "1                 AT&T Inc.  15:05:02  \n",
       "2                   Outlook  15:02:56  \n",
       "3    Generic/Spear Phishing  15:01:21  \n",
       "4                    Bet365  14:54:25  \n",
       "..                      ...       ...  \n",
       "602                  Bet365  16:47:03  \n",
       "630                AOL Inc.  16:56:51  \n",
       "660                AOL Inc.  17:00:22  \n",
       "690                   Steam  17:04:06  \n",
       "691  Generic/Spear Phishing  17:03:03  \n",
       "\n",
       "[96 rows x 3 columns]"
      ]
     },
     "execution_count": 8,
     "metadata": {},
     "output_type": "execute_result"
    }
   ],
   "source": [
    "df"
   ]
  },
  {
   "cell_type": "code",
   "execution_count": 11,
   "id": "0aaf905a",
   "metadata": {},
   "outputs": [
    {
     "data": {
      "text/html": [
       "<div>\n",
       "<style scoped>\n",
       "    .dataframe tbody tr th:only-of-type {\n",
       "        vertical-align: middle;\n",
       "    }\n",
       "\n",
       "    .dataframe tbody tr th {\n",
       "        vertical-align: top;\n",
       "    }\n",
       "\n",
       "    .dataframe thead th {\n",
       "        text-align: right;\n",
       "    }\n",
       "</style>\n",
       "<table border=\"1\" class=\"dataframe\">\n",
       "  <thead>\n",
       "    <tr style=\"text-align: right;\">\n",
       "      <th></th>\n",
       "      <th>Фишинг</th>\n",
       "      <th>Компания</th>\n",
       "      <th>Время</th>\n",
       "    </tr>\n",
       "  </thead>\n",
       "  <tbody>\n",
       "    <tr>\n",
       "      <th>0</th>\n",
       "      <td>https://aol-102059.weeblysite.com/</td>\n",
       "      <td>AOL Inc.</td>\n",
       "      <td>15:06:51</td>\n",
       "    </tr>\n",
       "    <tr>\n",
       "      <th>1</th>\n",
       "      <td>https://atlt11.weebly.com/</td>\n",
       "      <td>AT&amp;T Inc.</td>\n",
       "      <td>15:05:02</td>\n",
       "    </tr>\n",
       "    <tr>\n",
       "      <th>2</th>\n",
       "      <td>https://globalgtt.online/98221d95371eb9444at98...</td>\n",
       "      <td>Outlook</td>\n",
       "      <td>15:02:56</td>\n",
       "    </tr>\n",
       "    <tr>\n",
       "      <th>3</th>\n",
       "      <td>https://coordinatedimpolitediscussion.antoniow...</td>\n",
       "      <td>Generic/Spear Phishing</td>\n",
       "      <td>15:01:21</td>\n",
       "    </tr>\n",
       "    <tr>\n",
       "      <th>4</th>\n",
       "      <td>http://3659jjj.net/</td>\n",
       "      <td>Bet365</td>\n",
       "      <td>14:54:25</td>\n",
       "    </tr>\n",
       "    <tr>\n",
       "      <th>...</th>\n",
       "      <td>...</td>\n",
       "      <td>...</td>\n",
       "      <td>...</td>\n",
       "    </tr>\n",
       "    <tr>\n",
       "      <th>602</th>\n",
       "      <td>http://www.836594x.com/</td>\n",
       "      <td>Bet365</td>\n",
       "      <td>16:47:03</td>\n",
       "    </tr>\n",
       "    <tr>\n",
       "      <th>630</th>\n",
       "      <td>https://aol-102607.weeblysite.com/</td>\n",
       "      <td>AOL Inc.</td>\n",
       "      <td>16:56:51</td>\n",
       "    </tr>\n",
       "    <tr>\n",
       "      <th>660</th>\n",
       "      <td>https://aol-102115.weeblysite.com/</td>\n",
       "      <td>AOL Inc.</td>\n",
       "      <td>17:00:22</td>\n",
       "    </tr>\n",
       "    <tr>\n",
       "      <th>690</th>\n",
       "      <td>https://staencommunlty.com/proflies/7656119796...</td>\n",
       "      <td>Steam</td>\n",
       "      <td>17:04:06</td>\n",
       "    </tr>\n",
       "    <tr>\n",
       "      <th>691</th>\n",
       "      <td>http://neuquenwebonline.com/</td>\n",
       "      <td>Generic/Spear Phishing</td>\n",
       "      <td>17:03:03</td>\n",
       "    </tr>\n",
       "  </tbody>\n",
       "</table>\n",
       "<p>96 rows × 3 columns</p>\n",
       "</div>"
      ],
      "text/plain": [
       "                                                Фишинг  \\\n",
       "0                   https://aol-102059.weeblysite.com/   \n",
       "1                           https://atlt11.weebly.com/   \n",
       "2    https://globalgtt.online/98221d95371eb9444at98...   \n",
       "3    https://coordinatedimpolitediscussion.antoniow...   \n",
       "4                                  http://3659jjj.net/   \n",
       "..                                                 ...   \n",
       "602                            http://www.836594x.com/   \n",
       "630                 https://aol-102607.weeblysite.com/   \n",
       "660                 https://aol-102115.weeblysite.com/   \n",
       "690  https://staencommunlty.com/proflies/7656119796...   \n",
       "691                       http://neuquenwebonline.com/   \n",
       "\n",
       "                   Компания     Время  \n",
       "0                  AOL Inc.  15:06:51  \n",
       "1                 AT&T Inc.  15:05:02  \n",
       "2                   Outlook  15:02:56  \n",
       "3    Generic/Spear Phishing  15:01:21  \n",
       "4                    Bet365  14:54:25  \n",
       "..                      ...       ...  \n",
       "602                  Bet365  16:47:03  \n",
       "630                AOL Inc.  16:56:51  \n",
       "660                AOL Inc.  17:00:22  \n",
       "690                   Steam  17:04:06  \n",
       "691  Generic/Spear Phishing  17:03:03  \n",
       "\n",
       "[96 rows x 3 columns]"
      ]
     },
     "execution_count": 11,
     "metadata": {},
     "output_type": "execute_result"
    }
   ],
   "source": [
    "df.columns = ['Фишинг', 'Компания', 'Время']\n",
    "df"
   ]
  },
  {
   "cell_type": "code",
   "execution_count": 12,
   "id": "0d7847ab",
   "metadata": {},
   "outputs": [],
   "source": [
    "df.to_csv(\"result1.csv\")"
   ]
  },
  {
   "cell_type": "code",
   "execution_count": 15,
   "id": "6fe41d85",
   "metadata": {},
   "outputs": [
    {
     "data": {
      "text/plain": [
       "Компания\n",
       "Generic/Spear Phishing                 13\n",
       "AOL Inc.                                7\n",
       "Steam                                   7\n",
       "Bet365                                  6\n",
       "DHL Airways, Inc.                       4\n",
       "Facebook, Inc.                          4\n",
       "Crypto/Wallet                           3\n",
       "AT&T Inc.                               3\n",
       "United States Postal Service            3\n",
       "PayPay                                  2\n",
       "Outlook                                 2\n",
       "Apple Inc.                              2\n",
       "Webmail Providers                       2\n",
       "Tencent                                 2\n",
       "Office365                               2\n",
       "1&1 Ionos                               1\n",
       "Mobile Legends                          1\n",
       "Microsoft OneDrive                      1\n",
       "Netflix Inc.                            1\n",
       "SOCIETE FRANCAISE DU RADIOTELEPHONE     1\n",
       "Rackspace                               1\n",
       "Lojas Renner                            1\n",
       "Shopee                                  1\n",
       "The Union Bank of the Philippines       1\n",
       "UPS                                     1\n",
       "VKontakte                               1\n",
       "Wells Fargo & Company                   1\n",
       "Magalu                                  1\n",
       "Government of Turkey                    1\n",
       "LeBoncoin                               1\n",
       "La Banque postale                       1\n",
       "America First Credit Union              1\n",
       "Australian Government                   1\n",
       "Banco Bradesco                          1\n",
       "Banco Galicia                           1\n",
       "Banco Promerica                         1\n",
       "Bancolombia                             1\n",
       "Bank of America                         1\n",
       "Coinbase                                1\n",
       "Commonwealth Bank of Australia          1\n",
       "Credit Agricole S.A.                    1\n",
       "Deutsche Telekom                        1\n",
       "Dropbox, Inc.                           1\n",
       "FedEx Corporation                       1\n",
       "Garena                                  1\n",
       "Global Sources (HK)                     1\n",
       "International Card Services B.V         1\n",
       "Itau Unibanco S.A                       1\n",
       "WhatsApp                                1\n",
       "Name: Фишинг, dtype: int64"
      ]
     },
     "execution_count": 15,
     "metadata": {},
     "output_type": "execute_result"
    }
   ],
   "source": [
    "df.groupby('Компания').count()['Фишинг'].sort_values(ascending=False)"
   ]
  }
 ],
 "metadata": {
  "kernelspec": {
   "display_name": "Python 3 (ipykernel)",
   "language": "python",
   "name": "python3"
  },
  "language_info": {
   "codemirror_mode": {
    "name": "ipython",
    "version": 3
   },
   "file_extension": ".py",
   "mimetype": "text/x-python",
   "name": "python",
   "nbconvert_exporter": "python",
   "pygments_lexer": "ipython3",
   "version": "3.11.2"
  },
  "vscode": {
   "interpreter": {
    "hash": "aee8b7b246df8f9039afb4144a1f6fd8d2ca17a180786b69acc140d282b71a49"
   }
  }
 },
 "nbformat": 4,
 "nbformat_minor": 5
}
